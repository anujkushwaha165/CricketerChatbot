{
 "cells": [
  {
   "cell_type": "code",
   "execution_count": 106,
   "id": "b1780a47",
   "metadata": {},
   "outputs": [],
   "source": [
    "import nltk\n",
    "import numpy as np\n",
    "import random\n",
    "import string\n",
    "import bs4 as bs\n",
    "import re\n",
    "import docx"
   ]
  },
  {
   "cell_type": "code",
   "execution_count": null,
   "id": "6c4ec561",
   "metadata": {},
   "outputs": [],
   "source": []
  },
  {
   "cell_type": "code",
   "execution_count": null,
   "id": "f917ad44",
   "metadata": {},
   "outputs": [],
   "source": []
  },
  {
   "cell_type": "code",
   "execution_count": 107,
   "id": "1331527b",
   "metadata": {},
   "outputs": [
    {
     "name": "stdout",
     "output_type": "stream",
     "text": [
      "Requirement already satisfied: python-docx in c:\\users\\anuj\\anaconda3\\lib\\site-packages (0.8.11)\n",
      "Requirement already satisfied: lxml>=2.3.2 in c:\\users\\anuj\\anaconda3\\lib\\site-packages (from python-docx) (4.6.3)\n",
      "Note: you may need to restart the kernel to use updated packages.\n"
     ]
    }
   ],
   "source": [
    "pip install python-docx"
   ]
  },
  {
   "cell_type": "code",
   "execution_count": 108,
   "id": "ff96ffc2",
   "metadata": {},
   "outputs": [],
   "source": [
    "\n",
    "raw_html = docx.Document('sample.docx')"
   ]
  },
  {
   "cell_type": "code",
   "execution_count": 109,
   "id": "069793a7",
   "metadata": {},
   "outputs": [],
   "source": [
    "def getText(filename):\n",
    "    doc = docx.Document(filename)\n",
    "    fullText = []\n",
    "    for para in doc.paragraphs:\n",
    "        fullText.append(para.text)\n",
    "    return '\\n'.join(fullText)"
   ]
  },
  {
   "cell_type": "code",
   "execution_count": 110,
   "id": "bf2350aa",
   "metadata": {},
   "outputs": [],
   "source": [
    "# getText('sample.docx')\n"
   ]
  },
  {
   "cell_type": "code",
   "execution_count": 111,
   "id": "6b25a84d",
   "metadata": {},
   "outputs": [],
   "source": [
    "# raw_html = urllib.request.urlopen('https://en.wikipedia.org/wiki/India_national_cricket_team')\n",
    "# import docx\n",
    "# doc = docx.Document('sample.docx')\n",
    "raw_doc = getText('sample.docx')\n",
    "\n",
    "article_doc = bs.BeautifulSoup(raw_doc, 'lxml')\n",
    "\n",
    "article_paragraphs = article_doc.find_all('p')\n",
    "\n",
    "article_text = ''\n",
    "\n",
    "for para in article_paragraphs:\n",
    "    article_text += para.text\n",
    "\n",
    "article_text = article_text.lower()"
   ]
  },
  {
   "cell_type": "code",
   "execution_count": 112,
   "id": "ada5fc93",
   "metadata": {},
   "outputs": [],
   "source": [
    "article_text = re.sub(r'\\[[0-9]*\\]', ' ', article_text)\n",
    "article_text = re.sub(r'\\s+', ' ', article_text)"
   ]
  },
  {
   "cell_type": "code",
   "execution_count": 113,
   "id": "1f02312f",
   "metadata": {},
   "outputs": [],
   "source": [
    "article_sentences = nltk.sent_tokenize(article_text)\n",
    "article_words = nltk.word_tokenize(article_text)"
   ]
  },
  {
   "cell_type": "code",
   "execution_count": 114,
   "id": "57629f97",
   "metadata": {},
   "outputs": [],
   "source": [
    "wnlemmatizer = nltk.stem.WordNetLemmatizer()\n",
    "\n",
    "def perform_lemmatization(tokens):\n",
    "    return [wnlemmatizer.lemmatize(token) for token in tokens]\n",
    "\n",
    "punctuation_removal = dict((ord(punctuation), None) for punctuation in string.punctuation)\n",
    "\n",
    "def get_processed_text(document):\n",
    "    return perform_lemmatization(nltk.word_tokenize(document.lower().translate(punctuation_removal)))"
   ]
  },
  {
   "cell_type": "code",
   "execution_count": 115,
   "id": "6a500052",
   "metadata": {},
   "outputs": [],
   "source": [
    "greeting_inputs = (\"hey\", \"good morning\", \"good evening\", \"morning\", \"evening\", \"hi\", \"whatsup\",\"hello\", \"how are you?\", \"hi there\", \"hii\", \"whats up\")\n",
    "greeting_responses = [\"hey\", \"hey hows you?\", \"Howdy Partner!\", \"Hello\", \"How are you doing?\", \"Greetings!\", \"How do you do?\", \"hello, how you doing\", \"hello\", \"Welcome, I am good and you\"]\n",
    "age_input=[\"how old are you?\", \"when is your birthday?\", \"when was you born?\"]\n",
    "age_output=['I am unborn',\"I am chat bot bro I never born\"]\n",
    "name_input=[\"what's your name?\", \"what are you called?\", \"who are you?\",'who are you']\n",
    "name_output=[\"My name is Chatbot\", \"I'm Chatbot\", \"Chatbot\"]\n",
    "def generate_greeting_response(greeting):\n",
    "    if greeting.lower() in greeting_inputs:\n",
    "        \n",
    "        return random.choice(greeting_responses)+\"\\n How can i help you?\"\n",
    "    if greeting.lower() in age_input  or 'age' in greeting.lower() :\n",
    "         return random.choice(age_output)\n",
    "    if greeting.lower() in name_input:\n",
    "        \n",
    "        return random.choice(name_output)+\"  I am an AI\"+\"\\n How can i help you?\"     \n",
    "            \n",
    "\n",
    "    \n",
    "#      return chatbot.get_response(greeting)\n",
    "#     for token in greeting.split():\n",
    "#         if token.lower() in greeting_inputs:\n",
    "#             return random.choice(greeting_responses)\n",
    "#         if token.lower() in age_input:\n",
    "#             return random.choice(age_output) \n",
    "\n",
    "        "
   ]
  },
  {
   "cell_type": "code",
   "execution_count": null,
   "id": "9e38befa",
   "metadata": {},
   "outputs": [],
   "source": []
  },
  {
   "cell_type": "code",
   "execution_count": 116,
   "id": "82e5badc",
   "metadata": {},
   "outputs": [],
   "source": [
    "from sklearn.feature_extraction.text import TfidfVectorizer\n",
    "from sklearn.metrics.pairwise import cosine_similarity"
   ]
  },
  {
   "cell_type": "code",
   "execution_count": 117,
   "id": "aa1c57c6",
   "metadata": {},
   "outputs": [],
   "source": [
    "def generate_response(user_input):\n",
    "    tennisrobo_response = ''\n",
    "    article_sentences.append(user_input)\n",
    "\n",
    "    word_vectorizer = TfidfVectorizer(tokenizer=get_processed_text, stop_words='english')\n",
    "    all_word_vectors = word_vectorizer.fit_transform(article_sentences)\n",
    "    similar_vector_values = cosine_similarity(all_word_vectors[-1], all_word_vectors)\n",
    "    similar_sentence_number = similar_vector_values.argsort()[0][-2]\n",
    "\n",
    "    matched_vector = similar_vector_values.flatten()\n",
    "    matched_vector.sort()\n",
    "    vector_matched = matched_vector[-2]\n",
    "\n",
    "    if vector_matched == 0:\n",
    "        tennisrobo_response = tennisrobo_response + \"I am sorry, I could not understand you\"\n",
    "        return tennisrobo_response\n",
    "    else:\n",
    "        tennisrobo_response = tennisrobo_response + article_sentences[similar_sentence_number]\n",
    "        return tennisrobo_response"
   ]
  },
  {
   "cell_type": "code",
   "execution_count": 118,
   "id": "fe58a2ab",
   "metadata": {},
   "outputs": [
    {
     "name": "stderr",
     "output_type": "stream",
     "text": [
      "[nltk_data] Downloading package wordnet to\n",
      "[nltk_data]     C:\\Users\\Anuj\\AppData\\Roaming\\nltk_data...\n",
      "[nltk_data]   Package wordnet is already up-to-date!\n"
     ]
    },
    {
     "data": {
      "text/plain": [
       "True"
      ]
     },
     "execution_count": 118,
     "metadata": {},
     "output_type": "execute_result"
    }
   ],
   "source": [
    "nltk.download('wordnet')"
   ]
  },
  {
   "cell_type": "code",
   "execution_count": 119,
   "id": "3b3b39f2",
   "metadata": {},
   "outputs": [],
   "source": [
    "word_vectorizer = TfidfVectorizer(tokenizer=get_processed_text, stop_words='english')\n",
    "all_word_vectors = word_vectorizer.fit_transform(article_sentences)"
   ]
  },
  {
   "cell_type": "code",
   "execution_count": 120,
   "id": "ff07ff79",
   "metadata": {},
   "outputs": [],
   "source": [
    "similar_vector_values = cosine_similarity(all_word_vectors[-1], all_word_vectors)"
   ]
  },
  {
   "cell_type": "code",
   "execution_count": 121,
   "id": "197dadcf",
   "metadata": {},
   "outputs": [],
   "source": [
    "similar_sentence_number = similar_vector_values.argsort()[0][-2]"
   ]
  },
  {
   "cell_type": "code",
   "execution_count": null,
   "id": "0494d97a",
   "metadata": {},
   "outputs": [
    {
     "name": "stdout",
     "output_type": "stream",
     "text": [
      "Hello, I am your Chatbot. You can ask me any question regarding Cricket:\n",
      "hi\n",
      "Chatbot: How do you do?\n",
      " How can i help you?\n",
      "hit Wicket\n",
      "Chatbot: then, india played the against in in which they lost by 8 wickets.\n",
      "no ball\n",
      "Chatbot: gavaskar infamously blocked his way to 36 not out off 174 balls against england in the first world cup in 1975; india scored just 132 for 3 and lost by 202 runs.\n",
      "No ball\n",
      "Chatbot: gavaskar infamously blocked his way to 36 not out off 174 balls against england in the first world cup in 1975; india scored just 132 for 3 and lost by 202 runs.\n",
      "t20\n",
      "Chatbot: this panel was sacked after unsuccessful tour of indian men's team in 2022 t20 world cup.\n",
      "world cup\n",
      "Chatbot: it was the second team after the to win the world cup and the first team to win the world cup on home soil after winning the .\n"
     ]
    }
   ],
   "source": [
    "continue_dialogue = True\n",
    "print(\"Hello, I am your Chatbot. You can ask me any question regarding Cricket:\")\n",
    "while(continue_dialogue == True):\n",
    "    human_text = input()\n",
    "    human_text = human_text.lower()\n",
    "    if human_text != 'bye':\n",
    "        if human_text == 'thanks' or human_text == 'thank you very much' or human_text == 'thank you':\n",
    "            continue_dialogue = False\n",
    "            print(\"Chatbot: Most welcome\")\n",
    "        else:\n",
    "            if generate_greeting_response(human_text) != None:\n",
    "                print(\"Chatbot: \" + generate_greeting_response(human_text))\n",
    "            else:\n",
    "                print(\"Chatbot: \", end=\"\")\n",
    "                print(generate_response(human_text))\n",
    "                article_sentences.remove(human_text)\n",
    "    else:\n",
    "        continue_dialogue = False\n",
    "        print(\"Chatbot: Good bye and take care of yourself...\")"
   ]
  },
  {
   "cell_type": "code",
   "execution_count": null,
   "id": "b15de43b",
   "metadata": {},
   "outputs": [],
   "source": []
  },
  {
   "cell_type": "code",
   "execution_count": null,
   "id": "c94dea33",
   "metadata": {},
   "outputs": [],
   "source": []
  },
  {
   "cell_type": "code",
   "execution_count": null,
   "id": "47eb6ebd",
   "metadata": {},
   "outputs": [],
   "source": []
  }
 ],
 "metadata": {
  "kernelspec": {
   "display_name": "Python 3",
   "language": "python",
   "name": "python3"
  },
  "language_info": {
   "codemirror_mode": {
    "name": "ipython",
    "version": 3
   },
   "file_extension": ".py",
   "mimetype": "text/x-python",
   "name": "python",
   "nbconvert_exporter": "python",
   "pygments_lexer": "ipython3",
   "version": "3.9.4 (tags/v3.9.4:1f2e308, Apr  6 2021, 13:40:21) [MSC v.1928 64 bit (AMD64)]"
  },
  "vscode": {
   "interpreter": {
    "hash": "239907192e1ad0fc290bf326c02b27a08e034fe8906a56b306a459675ef0c2b3"
   }
  }
 },
 "nbformat": 4,
 "nbformat_minor": 5
}
